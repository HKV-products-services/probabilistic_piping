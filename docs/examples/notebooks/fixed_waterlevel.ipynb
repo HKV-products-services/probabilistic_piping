{
 "cells": [
  {
   "cell_type": "markdown",
   "metadata": {},
   "source": [
    "# Fixed water level application\n",
    "\n",
    "The package contains two classes for fixed water level calculations: [ProbPipingFixedWaterlevel](/reference/ProbPipingFixedWaterlevel.html) and [ProbPipingFixedWaterlevelSimple](/reference/ProbPipingFixedWaterlevelSimple.html). These two classes both have methods calculating a single failure probability given a water level (`fixed_waterlevel_failureprobability()`), or for a range of water levels (`fixed_waterlevel_fragilitycurve()`). \n",
    "\n",
    "The [ProbPipingFixedWaterlevelSimple](/reference/ProbPipingFixedWaterlevelSimple.html) class calculates the three submechanisms of piping (heave, uplift, sellmeijer) separately and combines the _failure probabilities of the submechanisms_ to a combined failure probability (by taking the minimum failure probability of the three submechanims). This is somewhat different than the `combi` mechanism of [ProbPipingFixedWaterlevel](/reference/ProbPipingFixedWaterlevel.html), where the minimum of the three submechanisms is taken in the _limit state function_. \n",
    "\n",
    "The moniker 'Simple' has been added to [ProbPipingFixedWaterlevelSimple](/reference/ProbPipingFixedWaterlevelSimple.html) because taking the minimum of the failure probabilities of the submechanims is seen as a simplified approach.\n",
    "\n",
    "In this notebook, a comparison of the two approaches is shown."
   ]
  },
  {
   "cell_type": "code",
   "execution_count": null,
   "metadata": {},
   "outputs": [],
   "source": [
    "from pathlib import Path\n",
    "\n",
    "import pandas as pd\n",
    "import matplotlib.pyplot as plt\n",
    "\n",
    "from probabilistic_piping import (\n",
    "    ProbInput,\n",
    "    ProbPipingFixedWaterlevel,\n",
    "    ProbPipingFixedWaterlevelSimple,\n",
    ")"
   ]
  },
  {
   "cell_type": "markdown",
   "metadata": {},
   "source": [
    "## Input\n",
    "The same input data as in the introduction is used and converted to the required [ProbInput](/reference/ProbInput.html) format."
   ]
  },
  {
   "cell_type": "code",
   "execution_count": null,
   "metadata": {},
   "outputs": [],
   "source": [
    "data_path = Path(\"../../../test/data/full_test.xlsx\")\n",
    "df_input = pd.read_excel(data_path, sheet_name=\"input\", index_col=0, header=0)\n",
    "inp_data = ProbInput.from_dataframe(df_input)"
   ]
  },
  {
   "cell_type": "markdown",
   "metadata": {},
   "source": [
    "## ProbPipingFixedWaterlevel\n",
    "First, we calculate the failure probability for the given input using the [ProbPipingFixedWaterlevel](/reference/ProbPipingFixedWaterlevel.html) class."
   ]
  },
  {
   "cell_type": "code",
   "execution_count": null,
   "metadata": {},
   "outputs": [],
   "source": [
    "prob = ProbPipingFixedWaterlevel(progress=False)\n",
    "_, pc = prob.fixed_waterlevel_fragilitycurve(inp_data, z_type=\"combi\")"
   ]
  },
  {
   "cell_type": "markdown",
   "metadata": {},
   "source": [
    "## ProbPipingFixedWaterlevelSimple\n",
    "Then we calculate the failure probability using the [ProbPipingFixedWaterlevelSimple](/reference/ProbPipingFixedWaterlevelSimple.html) class. Notice that this class returns four results: three submechanism results and one combined result."
   ]
  },
  {
   "cell_type": "code",
   "execution_count": null,
   "metadata": {},
   "outputs": [],
   "source": [
    "prob_simple = ProbPipingFixedWaterlevelSimple(progress=False)\n",
    "_, pu, ph, pp, pcs = prob_simple.fixed_waterlevel_fragilitycurve(inp_data)"
   ]
  },
  {
   "cell_type": "markdown",
   "metadata": {},
   "source": [
    "## Visualize\n",
    "We can now visually compare the results of the two approaches. The results are subtly different, but overal comparable."
   ]
  },
  {
   "cell_type": "code",
   "execution_count": null,
   "metadata": {},
   "outputs": [],
   "source": [
    "fig, (ax1, ax2) = plt.subplots(ncols=2, figsize=(8, 3))\n",
    "ax1.set_title(\"ProbPipingFixedWaterlevel\")\n",
    "ax1.plot([r.h for r in pc.results], [r.prob_cond for r in pc.results], label=\"combi\")\n",
    "ax1.set_xlabel(\"Water level [m]\")\n",
    "ax1.set_ylabel(\"Failure probability\")\n",
    "ax1.legend()\n",
    "\n",
    "wl = [r.h for r in pcs.results]\n",
    "ax2.set_title(\"ProbPipingFixedWaterlevelSimple\")\n",
    "ax2.plot(wl, [r.prob_cond for r in pcs.results], label=\"combined\", ls=\":\", zorder=10)\n",
    "ax2.plot(wl, [r.prob_cond for r in pu.results], label=\"uplift\", lw=3, alpha=0.5)\n",
    "ax2.plot(wl, [r.prob_cond for r in ph.results], label=\"heave\", lw=3, alpha=0.5)\n",
    "ax2.plot(wl, [r.prob_cond for r in pp.results], label=\"sellmeijer\", lw=3, alpha=0.5)\n",
    "ax2.set_xlabel(\"Water level [m]\")\n",
    "ax2.set_ylabel(\"Failure probability\")\n",
    "ax2.legend();"
   ]
  }
 ],
 "metadata": {
  "kernelspec": {
   "display_name": "default",
   "language": "python",
   "name": "python3"
  },
  "language_info": {
   "codemirror_mode": {
    "name": "ipython",
    "version": 3
   },
   "file_extension": ".py",
   "mimetype": "text/x-python",
   "name": "python",
   "nbconvert_exporter": "python",
   "pygments_lexer": "ipython3",
   "version": "3.12.8"
  }
 },
 "nbformat": 4,
 "nbformat_minor": 2
}
