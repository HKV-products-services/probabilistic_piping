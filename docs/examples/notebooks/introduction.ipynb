{
 "cells": [
  {
   "cell_type": "markdown",
   "metadata": {},
   "source": [
    "# Introduction\n",
    "\n",
    "In this notebook, a barebones example is given on how to create a piping fragility curve using an Excel file as input for the [ProbPipingFixedWaterlevel](/probabilistic_piping/reference/ProbPipingFixedWaterlevel.html) class."
   ]
  },
  {
   "cell_type": "code",
   "execution_count": 1,
   "metadata": {},
   "outputs": [],
   "source": [
    "from pathlib import Path\n",
    "\n",
    "import numpy as np\n",
    "import pandas as pd\n",
    "import matplotlib.pyplot as plt\n",
    "\n",
    "from probabilistic_piping import ProbInput, ProbPipingFixedWaterlevel"
   ]
  },
  {
   "cell_type": "markdown",
   "metadata": {},
   "source": [
    "## Creating input data\n",
    "\n",
    "Probabilistic calculations expect an instance of [ProbInput](/probabilistic_piping/reference/ProbInput.html). A practical way of making this [ProbInput](/probabilistic_piping/reference/ProbInput.html) instance is from a specially crafted Excel sheet."
   ]
  },
  {
   "cell_type": "code",
   "execution_count": 2,
   "metadata": {},
   "outputs": [
    {
     "data": {
      "text/html": [
       "<div>\n",
       "<style scoped>\n",
       "    .dataframe tbody tr th:only-of-type {\n",
       "        vertical-align: middle;\n",
       "    }\n",
       "\n",
       "    .dataframe tbody tr th {\n",
       "        vertical-align: top;\n",
       "    }\n",
       "\n",
       "    .dataframe thead th {\n",
       "        text-align: right;\n",
       "    }\n",
       "</style>\n",
       "<table border=\"1\" class=\"dataframe\">\n",
       "  <thead>\n",
       "    <tr style=\"text-align: right;\">\n",
       "      <th></th>\n",
       "      <th>Beschrijving</th>\n",
       "      <th>Waarde</th>\n",
       "      <th>Kansverdeling</th>\n",
       "      <th>Verschuiving</th>\n",
       "      <th>Mean</th>\n",
       "      <th>Spreiding</th>\n",
       "      <th>Spreidingstype</th>\n",
       "      <th>Afknot_links</th>\n",
       "      <th>Afknot_rechts</th>\n",
       "      <th>Min</th>\n",
       "      <th>Step</th>\n",
       "      <th>Max</th>\n",
       "      <th>StDev</th>\n",
       "    </tr>\n",
       "    <tr>\n",
       "      <th>Naam</th>\n",
       "      <th></th>\n",
       "      <th></th>\n",
       "      <th></th>\n",
       "      <th></th>\n",
       "      <th></th>\n",
       "      <th></th>\n",
       "      <th></th>\n",
       "      <th></th>\n",
       "      <th></th>\n",
       "      <th></th>\n",
       "      <th></th>\n",
       "      <th></th>\n",
       "      <th></th>\n",
       "    </tr>\n",
       "  </thead>\n",
       "  <tbody>\n",
       "    <tr>\n",
       "      <th>D</th>\n",
       "      <td>D -- Dikte pipinggevoelige zandlaag (aquifer) [m]</td>\n",
       "      <td>4.44234</td>\n",
       "      <td>Lognormaal</td>\n",
       "      <td>0.0</td>\n",
       "      <td>9.000000</td>\n",
       "      <td>0.50</td>\n",
       "      <td>Standaardafwijking</td>\n",
       "      <td>NaN</td>\n",
       "      <td>NaN</td>\n",
       "      <td>NaN</td>\n",
       "      <td>NaN</td>\n",
       "      <td>NaN</td>\n",
       "      <td>0.500000</td>\n",
       "    </tr>\n",
       "    <tr>\n",
       "      <th>D_cover</th>\n",
       "      <td>D_cover -- Dikte (cohesieve) deklaag in [m]</td>\n",
       "      <td>3.12096</td>\n",
       "      <td>Lognormaal</td>\n",
       "      <td>0.0</td>\n",
       "      <td>4.000000</td>\n",
       "      <td>0.50</td>\n",
       "      <td>Standaardafwijking</td>\n",
       "      <td>NaN</td>\n",
       "      <td>NaN</td>\n",
       "      <td>NaN</td>\n",
       "      <td>NaN</td>\n",
       "      <td>NaN</td>\n",
       "      <td>0.500000</td>\n",
       "    </tr>\n",
       "    <tr>\n",
       "      <th>d_70</th>\n",
       "      <td>d_70 -- 70% kwantiel korrelgrootte van pipingg...</td>\n",
       "      <td>0.0</td>\n",
       "      <td>Lognormaal</td>\n",
       "      <td>0.0</td>\n",
       "      <td>0.000161</td>\n",
       "      <td>0.12</td>\n",
       "      <td>Variatiecoëfficiënt</td>\n",
       "      <td>NaN</td>\n",
       "      <td>NaN</td>\n",
       "      <td>NaN</td>\n",
       "      <td>NaN</td>\n",
       "      <td>NaN</td>\n",
       "      <td>0.000019</td>\n",
       "    </tr>\n",
       "  </tbody>\n",
       "</table>\n",
       "</div>"
      ],
      "text/plain": [
       "                                              Beschrijving   Waarde  \\\n",
       "Naam                                                                  \n",
       "D        D -- Dikte pipinggevoelige zandlaag (aquifer) [m]  4.44234   \n",
       "D_cover        D_cover -- Dikte (cohesieve) deklaag in [m]  3.12096   \n",
       "d_70     d_70 -- 70% kwantiel korrelgrootte van pipingg...      0.0   \n",
       "\n",
       "        Kansverdeling  Verschuiving      Mean  Spreiding       Spreidingstype  \\\n",
       "Naam                                                                            \n",
       "D          Lognormaal           0.0  9.000000       0.50   Standaardafwijking   \n",
       "D_cover    Lognormaal           0.0  4.000000       0.50   Standaardafwijking   \n",
       "d_70       Lognormaal           0.0  0.000161       0.12  Variatiecoëfficiënt   \n",
       "\n",
       "         Afknot_links  Afknot_rechts  Min  Step  Max     StDev  \n",
       "Naam                                                            \n",
       "D                 NaN            NaN  NaN   NaN  NaN  0.500000  \n",
       "D_cover           NaN            NaN  NaN   NaN  NaN  0.500000  \n",
       "d_70              NaN            NaN  NaN   NaN  NaN  0.000019  "
      ]
     },
     "execution_count": 2,
     "metadata": {},
     "output_type": "execute_result"
    }
   ],
   "source": [
    "data_path = Path(\"../../../test/data/full_test.xlsx\")\n",
    "df_input = pd.read_excel(data_path, sheet_name=\"input\", index_col=0, header=0)\n",
    "df_input.head(3)"
   ]
  },
  {
   "cell_type": "markdown",
   "metadata": {},
   "source": [
    "The Excel data is converted to a [ProbInput](/probabilistic_piping/reference/ProbInput.html) instance using the classmethod `from_dataframe()`. The [ProbInput](/probabilistic_piping/reference/ProbInput.html) class has a number of attributes: `params`, `stochasts`, `charvals`, `calc_options` and `hlist`.\n",
    "\n",
    "Depending on the type of calculation, not all options need to be set."
   ]
  },
  {
   "cell_type": "code",
   "execution_count": 3,
   "metadata": {},
   "outputs": [],
   "source": [
    "inp_data = ProbInput.from_dataframe(df_input)"
   ]
  },
  {
   "cell_type": "markdown",
   "metadata": {},
   "source": [
    "`params` are deterministic (fixed) variables"
   ]
  },
  {
   "cell_type": "code",
   "execution_count": 4,
   "metadata": {},
   "outputs": [
    {
     "data": {
      "text/plain": [
       "{'d_70m': 0.000208,\n",
       " 'g': 9.81,\n",
       " 'gamma_water': 10,\n",
       " 'r_c': 0.3,\n",
       " 'v': 1.33e-06,\n",
       " 'gamma_sp': 16.19,\n",
       " 't_norm': 300}"
      ]
     },
     "execution_count": 4,
     "metadata": {},
     "output_type": "execute_result"
    }
   ],
   "source": [
    "inp_data.params"
   ]
  },
  {
   "cell_type": "markdown",
   "metadata": {},
   "source": [
    "`stochasts` are stochastic variables"
   ]
  },
  {
   "cell_type": "code",
   "execution_count": 5,
   "metadata": {},
   "outputs": [
    {
     "data": {
      "text/plain": [
       "{'D': class=LogNormal name=LogNormal dimension=1 muLog=2.19568 sigmaLog=0.0555128 gamma=0,\n",
       " 'D_cover': class=LogNormal name=LogNormal dimension=1 muLog=1.37854 sigmaLog=0.124516 gamma=0,\n",
       " 'd_70': class=LogNormal name=LogNormal dimension=1 muLog=-8.74125 sigmaLog=0.119571 gamma=0,\n",
       " 'eta': class=LogNormal name=LogNormal dimension=1 muLog=-1.30934 sigmaLog=0.00370369 gamma=0,\n",
       " 'gamma_sat': class=LogNormal name=LogNormal dimension=1 muLog=1.93859 sigmaLog=0.120984 gamma=10,\n",
       " 'h_exit': class=Normal name=Normal dimension=1 mean=class=Point name=Unnamed dimension=1 values=[-1.5] sigma=class=Point name=Unnamed dimension=1 values=[0.1] correlationMatrix=class=CorrelationMatrix dimension=1 implementation=class=MatrixImplementation name=Unnamed rows=1 columns=1 values=[1],\n",
       " 'i_ch': class=LogNormal name=LogNormal dimension=1 muLog=-0.712758 sigmaLog=0.198042 gamma=0,\n",
       " 'k': class=LogNormal name=LogNormal dimension=1 muLog=-9.05833 sigmaLog=0.246221 gamma=0,\n",
       " 'L': class=LogNormal name=LogNormal dimension=1 muLog=4.75131 sigmaLog=0.0332908 gamma=0,\n",
       " 'm_p': class=Normal name=Normal dimension=1 mean=class=Point name=Unnamed dimension=1 values=[1] sigma=class=Point name=Unnamed dimension=1 values=[0.08] correlationMatrix=class=CorrelationMatrix dimension=1 implementation=class=MatrixImplementation name=Unnamed rows=1 columns=1 values=[1],\n",
       " 'm_u': class=Normal name=Normal dimension=1 mean=class=Point name=Unnamed dimension=1 values=[1] sigma=class=Point name=Unnamed dimension=1 values=[0.1] correlationMatrix=class=CorrelationMatrix dimension=1 implementation=class=MatrixImplementation name=Unnamed rows=1 columns=1 values=[1],\n",
       " 'r_exit': class=LogNormal name=LogNormal dimension=1 muLog=-0.228119 sigmaLog=0.0997513 gamma=0,\n",
       " 'theta': class=LogNormal name=LogNormal dimension=1 muLog=3.61092 sigmaLog=0.00027027 gamma=0}"
      ]
     },
     "execution_count": 5,
     "metadata": {},
     "output_type": "execute_result"
    }
   ],
   "source": [
    "inp_data.stochasts"
   ]
  },
  {
   "cell_type": "markdown",
   "metadata": {},
   "source": [
    "`charvals` are characteristic values of the stochastic variables"
   ]
  },
  {
   "cell_type": "code",
   "execution_count": 6,
   "metadata": {},
   "outputs": [
    {
     "data": {
      "text/plain": [
       "{'D': 4.44234,\n",
       " 'D_cover': 3.12096,\n",
       " 'd_70': 1.88016e-07,\n",
       " 'eta': 0.282277,\n",
       " 'gamma_sat': 13.4991,\n",
       " 'h_exit': 0.0996889,\n",
       " 'i_ch': 0.22333,\n",
       " 'k': 4.75458e-09,\n",
       " 'L': 88.0597,\n",
       " 'm_p': 0.996009,\n",
       " 'm_u': 0.994455,\n",
       " 'r_exit': 0.793916,\n",
       " 'theta': 42.8826,\n",
       " 'h': 5.0}"
      ]
     },
     "execution_count": 6,
     "metadata": {},
     "output_type": "execute_result"
    }
   ],
   "source": [
    "inp_data.charvals"
   ]
  },
  {
   "cell_type": "markdown",
   "metadata": {},
   "source": [
    "`calc_options` are options to be used in specific probabilistic methods"
   ]
  },
  {
   "cell_type": "code",
   "execution_count": 7,
   "metadata": {},
   "outputs": [
    {
     "data": {
      "text/plain": [
       "{'Rekentechniek': 'FORM AbdoRackwitz',\n",
       " 'FORM start': 'mean',\n",
       " 'MaximumAbsoluteError': 0.01,\n",
       " 'MaximumRelativeError': 0.01,\n",
       " 'MaximumResidualError': 1e-05,\n",
       " 'MaximumConstraintError': 0.01,\n",
       " 'MaximumIterationNumber': 100,\n",
       " 'MaximumEvaluationNumber': 1000000000,\n",
       " 'MaximumCoefficientOfVariation': 0.1,\n",
       " 'BlockSize': 1000,\n",
       " 'MaximumOuterSampling': 1000}"
      ]
     },
     "execution_count": 7,
     "metadata": {},
     "output_type": "execute_result"
    }
   ],
   "source": [
    "inp_data.calc_options"
   ]
  },
  {
   "cell_type": "markdown",
   "metadata": {},
   "source": [
    " `hlist` is a range of water levels"
   ]
  },
  {
   "cell_type": "code",
   "execution_count": 8,
   "metadata": {},
   "outputs": [
    {
     "data": {
      "text/plain": [
       "array([ 0. ,  0.1,  0.2,  0.3,  0.4,  0.5,  0.6,  0.7,  0.8,  0.9,  1. ,\n",
       "        1.1,  1.2,  1.3,  1.4,  1.5,  1.6,  1.7,  1.8,  1.9,  2. ,  2.1,\n",
       "        2.2,  2.3,  2.4,  2.5,  2.6,  2.7,  2.8,  2.9,  3. ,  3.1,  3.2,\n",
       "        3.3,  3.4,  3.5,  3.6,  3.7,  3.8,  3.9,  4. ,  4.1,  4.2,  4.3,\n",
       "        4.4,  4.5,  4.6,  4.7,  4.8,  4.9,  5. ,  5.1,  5.2,  5.3,  5.4,\n",
       "        5.5,  5.6,  5.7,  5.8,  5.9,  6. ,  6.1,  6.2,  6.3,  6.4,  6.5,\n",
       "        6.6,  6.7,  6.8,  6.9,  7. ,  7.1,  7.2,  7.3,  7.4,  7.5,  7.6,\n",
       "        7.7,  7.8,  7.9,  8. ,  8.1,  8.2,  8.3,  8.4,  8.5,  8.6,  8.7,\n",
       "        8.8,  8.9,  9. ,  9.1,  9.2,  9.3,  9.4,  9.5,  9.6,  9.7,  9.8,\n",
       "        9.9, 10. , 10.1, 10.2, 10.3, 10.4, 10.5, 10.6, 10.7, 10.8, 10.9,\n",
       "       11. , 11.1, 11.2, 11.3, 11.4, 11.5, 11.6, 11.7, 11.8, 11.9, 12. ,\n",
       "       12.1, 12.2, 12.3, 12.4, 12.5, 12.6, 12.7, 12.8, 12.9, 13. , 13.1,\n",
       "       13.2, 13.3, 13.4, 13.5, 13.6, 13.7, 13.8, 13.9, 14. , 14.1, 14.2,\n",
       "       14.3, 14.4, 14.5, 14.6, 14.7, 14.8, 14.9, 15. , 15.1, 15.2, 15.3,\n",
       "       15.4, 15.5, 15.6, 15.7, 15.8, 15.9, 16. , 16.1, 16.2, 16.3, 16.4,\n",
       "       16.5, 16.6, 16.7, 16.8, 16.9, 17. , 17.1, 17.2, 17.3, 17.4, 17.5,\n",
       "       17.6, 17.7, 17.8, 17.9, 18. , 18.1, 18.2, 18.3, 18.4, 18.5, 18.6,\n",
       "       18.7, 18.8, 18.9, 19. , 19.1, 19.2, 19.3, 19.4, 19.5, 19.6, 19.7,\n",
       "       19.8, 19.9, 20. ])"
      ]
     },
     "execution_count": 8,
     "metadata": {},
     "output_type": "execute_result"
    }
   ],
   "source": [
    "np.array(inp_data.hlist)"
   ]
  },
  {
   "cell_type": "markdown",
   "metadata": {},
   "source": [
    "## Running a fragility curve calculation\n",
    "\n",
    "From this input data, we can now create a probabilistic piping calculation for a fixed water level. Fragility curves can be created for the submechanisms of `heave`, `uplift`, `sellmeijer` or the combination of the former as the mechanism `combi`. \n",
    "\n",
    "In this example, a fragility curve is calculated for the combined mechanism. Furthermore, all stochasts are assumed to be independent (`copula=None`)."
   ]
  },
  {
   "cell_type": "code",
   "execution_count": 9,
   "metadata": {},
   "outputs": [],
   "source": [
    "prob = ProbPipingFixedWaterlevel(progress=False)\n",
    "_, pc = prob.fixed_waterlevel_fragilitycurve(inp_data, z_type=\"combi\", copula=None)"
   ]
  },
  {
   "cell_type": "markdown",
   "metadata": {},
   "source": [
    "The results variable contains a list of [ProbResult](/probabilistic_piping/reference/ProbResult.html) instances. A [ProbResult](/probabilistic_piping/reference/ProbResult.html) is created for each water level, as each water level is a separate probabilistic calculation. A [ProbResult](/probabilistic_piping/reference/ProbResult.html) instance contains detailed information of such probabilistic calculation."
   ]
  },
  {
   "cell_type": "code",
   "execution_count": 10,
   "metadata": {},
   "outputs": [
    {
     "data": {
      "text/plain": [
       "ProbResult(h=20.0, prob_cond=1.0, converged=True, z_val=-0.008833492203210946, physical_design={'D': 8.986143178848712, 'D_cover': 6.58284495390116, 'd_70': 0.00015985317099639446, 'eta': 0.2699981481671999, 'gamma_sat': 16.948956640465564, 'h_exit': -1.484810143498369, 'i_ch': 1.8689020277881134, 'k': 0.00011641710001743983, 'L': 115.7358486166931, 'm_p': 1.0, 'm_u': 1.0, 'r_exit': 0.5753293471050961, 'theta': 36.99999864864872}, standard_design={'D': 0.0, 'D_cover': 4.063136676773775, 'd_70': 0.0, 'eta': 0.0, 'gamma_sat': 0.0, 'h_exit': 0.15189856501631158, 'i_ch': 6.756684392040727, 'k': 0.0, 'L': 0.0, 'm_p': 0.0, 'm_u': 0.0, 'r_exit': -3.255032876550169, 'theta': 0.0}, importancefactors={'D': -0.0, 'D_cover': -0.4762718148038311, 'd_70': -0.0, 'eta': -0.0, 'gamma_sat': -0.0, 'h_exit': -0.017805210846084572, 'i_ch': -0.7920034676286446, 'k': -0.0, 'L': -0.0, 'm_p': -0.0, 'm_u': -0.0, 'r_exit': 0.3815476905373615, 'theta': -0.0}, functionevals=45, mechanism='combi')"
      ]
     },
     "execution_count": 10,
     "metadata": {},
     "output_type": "execute_result"
    }
   ],
   "source": [
    "pc.results[-1]"
   ]
  },
  {
   "cell_type": "markdown",
   "metadata": {},
   "source": [
    "## Visualizing the calculated fragility curve\n",
    "\n",
    "Using the result object, the fragility curve can be visualized using the water levels and the conditional probabilities."
   ]
  },
  {
   "cell_type": "code",
   "execution_count": 11,
   "metadata": {},
   "outputs": [
    {
     "data": {
      "image/png": "[encoded data removed]",
      "text/plain": [
       "<Figure size 672x480 with 1 Axes>"
      ]
     },
     "metadata": {
      "image/png": {
       "height": 429,
       "width": 588
      }
     },
     "output_type": "display_data"
    }
   ],
   "source": [
    "fig, ax = plt.subplots()\n",
    "ax.plot([r.h for r in pc.results], [r.prob_cond for r in pc.results])\n",
    "ax.set_xlabel(\"Water level [m]\")\n",
    "ax.set_ylabel(\"Failure probability\");"
   ]
  }
 ],
 "metadata": {
  "kernelspec": {
   "display_name": "default",
   "language": "python",
   "name": "python3"
  },
  "language_info": {
   "codemirror_mode": {
    "name": "ipython",
    "version": 3
   },
   "file_extension": ".py",
   "mimetype": "text/x-python",
   "name": "python",
   "nbconvert_exporter": "python",
   "pygments_lexer": "ipython3",
   "version": "3.12.8"
  }
 },
 "nbformat": 4,
 "nbformat_minor": 2
}
