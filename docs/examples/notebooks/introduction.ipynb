{
 "cells": [
  {
   "cell_type": "markdown",
   "metadata": {},
   "source": [
    "# Introduction to probabilistic piping\n",
    "\n",
    "In this notebook, a barebones example is given on how to create a piping fragility curve using an Excel file as input for the [ProbPipingFixedWaterlevel](/reference/ProbPipingFixedWaterlevel.html) class."
   ]
  },
  {
   "cell_type": "code",
   "execution_count": null,
   "metadata": {},
   "outputs": [],
   "source": [
    "from pathlib import Path\n",
    "\n",
    "import numpy as np\n",
    "import pandas as pd\n",
    "import matplotlib.pyplot as plt\n",
    "\n",
    "from probabilistic_piping import ProbInput, ProbPipingFixedWaterlevel"
   ]
  },
  {
   "cell_type": "markdown",
   "metadata": {},
   "source": [
    "## Creating input data\n",
    "\n",
    "Probabilistic calculations expect an instance of [ProbInput](/reference/ProbInput.html). A practical way of making this [ProbInput](/reference/ProbInput.html) instance is from a specially crafted Excel sheet."
   ]
  },
  {
   "cell_type": "code",
   "execution_count": null,
   "metadata": {},
   "outputs": [],
   "source": [
    "data_path = Path(\"../../../test/data/full_test.xlsx\")\n",
    "df_input = pd.read_excel(data_path, sheet_name=\"input\", index_col=0, header=0)\n",
    "df_input.head(3)"
   ]
  },
  {
   "cell_type": "markdown",
   "metadata": {},
   "source": [
    "The Excel data is converted to a [ProbInput](/reference/ProbInput.html) instance using the classmethod `from_dataframe()`. The [ProbInput](/reference/ProbInput.html) class has a number of attributes: `params`, `stochasts`, `charvals`, `calc_options` and `hlist`.\n",
    "\n",
    "Depending on the type of calculation, not all options need to be set."
   ]
  },
  {
   "cell_type": "code",
   "execution_count": null,
   "metadata": {},
   "outputs": [],
   "source": [
    "inp_data = ProbInput.from_dataframe(df_input)"
   ]
  },
  {
   "cell_type": "markdown",
   "metadata": {},
   "source": [
    "`params` are deterministic (fixed) variables"
   ]
  },
  {
   "cell_type": "code",
   "execution_count": null,
   "metadata": {},
   "outputs": [],
   "source": [
    "inp_data.params"
   ]
  },
  {
   "cell_type": "markdown",
   "metadata": {},
   "source": [
    "`stochasts` are stochastic variables"
   ]
  },
  {
   "cell_type": "code",
   "execution_count": null,
   "metadata": {},
   "outputs": [],
   "source": [
    "inp_data.stochasts"
   ]
  },
  {
   "cell_type": "markdown",
   "metadata": {},
   "source": [
    "`charvals` are characteristic values of the stochastic variables"
   ]
  },
  {
   "cell_type": "code",
   "execution_count": null,
   "metadata": {},
   "outputs": [],
   "source": [
    "inp_data.charvals"
   ]
  },
  {
   "cell_type": "markdown",
   "metadata": {},
   "source": [
    "`calc_options` are options to be used in specific probabilistic methods"
   ]
  },
  {
   "cell_type": "code",
   "execution_count": null,
   "metadata": {},
   "outputs": [],
   "source": [
    "inp_data.calc_options"
   ]
  },
  {
   "cell_type": "markdown",
   "metadata": {},
   "source": [
    " `hlist` is a range of water levels"
   ]
  },
  {
   "cell_type": "code",
   "execution_count": null,
   "metadata": {},
   "outputs": [],
   "source": [
    "np.array(inp_data.hlist)"
   ]
  },
  {
   "cell_type": "markdown",
   "metadata": {},
   "source": [
    "## Running a fragility curve calculation\n",
    "\n",
    "From this input data, we can now create a probabilistic piping calculation for a fixed water level. Fragility curves can be created for the submechanisms of `heave`, `uplift`, `sellmeijer` or the combination of the former as the mechanism `combi`. \n",
    "\n",
    "In this example, a fragility curve is calculated for the combined mechanism. Furthermore, all stochasts are assumed to be independent (`copula=None`)."
   ]
  },
  {
   "cell_type": "code",
   "execution_count": null,
   "metadata": {},
   "outputs": [],
   "source": [
    "prob = ProbPipingFixedWaterlevel(progress=False)\n",
    "_, pc = prob.fixed_waterlevel_fragilitycurve(inp_data, z_type=\"combi\", copula=None)"
   ]
  },
  {
   "cell_type": "markdown",
   "metadata": {},
   "source": [
    "The results variable contains a list of [ProbResult](/reference/ProbResult.html) instances. A [ProbResult](/reference/ProbResult.html) is created for each water level, as each water level is a separate probabilistic calculation. A [ProbResult](/reference/ProbResult.html) instance contains detailed information of such probabilistic calculation."
   ]
  },
  {
   "cell_type": "code",
   "execution_count": null,
   "metadata": {},
   "outputs": [],
   "source": [
    "pc.results[-1]"
   ]
  },
  {
   "cell_type": "markdown",
   "metadata": {},
   "source": [
    "## Visualizing the calculated fragility curve\n",
    "\n",
    "Using the result object, the fragility curve can be visualized using the water levels and the conditional probabilities."
   ]
  },
  {
   "cell_type": "code",
   "execution_count": null,
   "metadata": {},
   "outputs": [],
   "source": [
    "fig, ax = plt.subplots()\n",
    "ax.plot([r.h for r in pc.results], [r.prob_cond for r in pc.results])\n",
    "ax.set_xlabel(\"Water level [m]\")\n",
    "ax.set_ylabel(\"Failure probability\");"
   ]
  }
 ],
 "metadata": {
  "kernelspec": {
   "display_name": "default",
   "language": "python",
   "name": "python3"
  },
  "language_info": {
   "codemirror_mode": {
    "name": "ipython",
    "version": 3
   },
   "file_extension": ".py",
   "mimetype": "text/x-python",
   "name": "python",
   "nbconvert_exporter": "python",
   "pygments_lexer": "ipython3",
   "version": "3.12.8"
  }
 },
 "nbformat": 4,
 "nbformat_minor": 2
}
