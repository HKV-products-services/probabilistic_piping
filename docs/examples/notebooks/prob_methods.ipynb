{
 "cells": [
  {
   "cell_type": "markdown",
   "metadata": {},
   "source": [
    "# Applying various probabilistic methods\n",
    "\n",
    "In the following, the application of a number of available probabilistic methods is shown using similar input."
   ]
  },
  {
   "cell_type": "code",
   "execution_count": null,
   "metadata": {},
   "outputs": [],
   "source": [
    "from pathlib import Path\n",
    "\n",
    "import pandas as pd\n",
    "\n",
    "from probabilistic_piping import ProbInput, ProbPipingFixedWaterlevel"
   ]
  },
  {
   "cell_type": "markdown",
   "metadata": {},
   "source": [
    "## Input"
   ]
  },
  {
   "cell_type": "code",
   "execution_count": null,
   "metadata": {},
   "outputs": [],
   "source": [
    "data_path = Path(\"../../../test/data/full_test.xlsx\")\n",
    "df_input = pd.read_excel(data_path, sheet_name=\"input\", index_col=0, header=0)\n",
    "prob = ProbPipingFixedWaterlevel(progress=False)"
   ]
  },
  {
   "cell_type": "markdown",
   "metadata": {},
   "source": [
    "## FORM Cobyla"
   ]
  },
  {
   "cell_type": "code",
   "execution_count": null,
   "metadata": {},
   "outputs": [],
   "source": [
    "df_coby = df_input.copy()\n",
    "df_coby.loc[\"Rekentechniek\", \"Waarde\"] = \"FORM Cobyla\"\n",
    "inp_coby = ProbInput.from_dataframe(df_coby)\n",
    "_, r_coby = prob.fixed_waterlevel_failureprobability(inp_coby, h=6.0, z_type=\"combi\")\n",
    "\n",
    "r_coby.prob_cond"
   ]
  },
  {
   "cell_type": "markdown",
   "metadata": {},
   "source": [
    "## FORM AbdoRackwitz"
   ]
  },
  {
   "cell_type": "code",
   "execution_count": null,
   "metadata": {},
   "outputs": [],
   "source": [
    "df_abdo = df_input.copy()\n",
    "df_abdo.loc[\"Rekentechniek\", \"Waarde\"] = \"FORM AbdoRackwitz\"\n",
    "inp_abdo = ProbInput.from_dataframe(df_abdo)\n",
    "_, r_abdo = prob.fixed_waterlevel_failureprobability(inp_abdo, h=6.0, z_type=\"combi\")\n",
    "\n",
    "r_abdo.prob_cond"
   ]
  },
  {
   "cell_type": "markdown",
   "metadata": {},
   "source": [
    "## Monte Carlo"
   ]
  },
  {
   "cell_type": "code",
   "execution_count": null,
   "metadata": {},
   "outputs": [],
   "source": [
    "df_mc = df_input.copy()\n",
    "df_mc.loc[\"Rekentechniek\", \"Waarde\"] = \"Monte Carlo\"\n",
    "inp_mc = ProbInput.from_dataframe(df_mc)\n",
    "_, r_mc = prob.fixed_waterlevel_failureprobability(inp_mc, h=6.0, z_type=\"combi\")\n",
    "\n",
    "r_mc.prob_cond"
   ]
  },
  {
   "cell_type": "markdown",
   "metadata": {},
   "source": [
    "## Directional Sampling"
   ]
  },
  {
   "cell_type": "code",
   "execution_count": null,
   "metadata": {},
   "outputs": [],
   "source": [
    "df_ds = df_input.copy()\n",
    "df_ds.loc[\"Rekentechniek\", \"Waarde\"] = \"DS MediumSafe OrthogonalDirection\"\n",
    "df_ds.loc[\"MaximumOuterSampling\", \"Waarde\"] = 10_000\n",
    "df_ds.loc[\"BlockSize\", \"Waarde\"] = 1\n",
    "inp_ds = ProbInput.from_dataframe(df_ds)\n",
    "_, r_ds = prob.fixed_waterlevel_failureprobability(inp_ds, h=6.0, z_type=\"combi\")\n",
    "\n",
    "r_ds.prob_cond"
   ]
  }
 ],
 "metadata": {
  "kernelspec": {
   "display_name": "default",
   "language": "python",
   "name": "python3"
  },
  "language_info": {
   "codemirror_mode": {
    "name": "ipython",
    "version": 3
   },
   "file_extension": ".py",
   "mimetype": "text/x-python",
   "name": "python",
   "nbconvert_exporter": "python",
   "pygments_lexer": "ipython3",
   "version": "3.12.8"
  }
 },
 "nbformat": 4,
 "nbformat_minor": 2
}
